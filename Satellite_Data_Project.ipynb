{
  "nbformat": 4,
  "nbformat_minor": 0,
  "metadata": {
    "colab": {
      "provenance": [],
      "mount_file_id": "1FVL0Z4xsKohU9-vzHbLOm5OHe5kAO8D-",
      "authorship_tag": "ABX9TyPmcNTug2r9HPMHaTRPzhyV",
      "include_colab_link": true
    },
    "kernelspec": {
      "name": "python3",
      "display_name": "Python 3"
    },
    "language_info": {
      "name": "python"
    }
  },
  "cells": [
    {
      "cell_type": "markdown",
      "metadata": {
        "id": "view-in-github",
        "colab_type": "text"
      },
      "source": [
        "<a href=\"https://colab.research.google.com/github/SaeedAkhtar1/Machin_Learning_Project/blob/main/Satellite_Data_Project.ipynb\" target=\"_parent\"><img src=\"https://colab.research.google.com/assets/colab-badge.svg\" alt=\"Open In Colab\"/></a>"
      ]
    },
    {
      "cell_type": "code",
      "execution_count": 37,
      "metadata": {
        "id": "p1O0EhSjaT-l"
      },
      "outputs": [],
      "source": [
        "import os\n",
        "import cv2"
      ]
    },
    {
      "cell_type": "markdown",
      "source": [
        "# **Semantic segmentation of aerial imagery**\n",
        "Satellite images of Dubai, the UAE segmented into 6 classes\n",
        "## About Dataset\n",
        "Context\n",
        "Humans in the Loop is publishing an open access dataset annotated for a joint project with the Mohammed Bin Rashid Space Center in Dubai, the UAE.\n",
        "\n",
        "# https://www.kaggle.com/datasets/humansintheloop/semantic-segmentation-of-aerial-imagery/\n",
        "### Content\n",
        "The dataset consists of aerial imagery of Dubai obtained by MBRSC satellites and annotated with pixel-wise semantic segmentation in 6 classes. The total volume of the dataset is 72 images grouped into 6 larger tiles. The classes are:\n",
        "\n",
        "* Building: #3C1098\n",
        "* Land (unpaved area): #8429F6\n",
        "* Road: #6EC1E4\n",
        "* Vegetation: #FEDD3A\n",
        "* Water: #E2A929\n",
        "* Unlabeled: #9B9B9B"
      ],
      "metadata": {
        "id": "xPXqJMmtkBOP"
      }
    },
    {
      "cell_type": "code",
      "source": [
        "!ls -lah '/content/drive/MyDrive/My_Project/archive/Semantic segmentation dataset'"
      ],
      "metadata": {
        "colab": {
          "base_uri": "https://localhost:8080/"
        },
        "id": "fgLasV58dJNF",
        "outputId": "f2ea6a44-25aa-4f30-b6b4-53bb7e07298e"
      },
      "execution_count": 38,
      "outputs": [
        {
          "output_type": "stream",
          "name": "stdout",
          "text": [
            "total 33K\n",
            "-rw------- 1 root root  548 May 29  2020  classes.json\n",
            "drwx------ 4 root root 4.0K Nov  1 05:53 'Tile 1'\n",
            "drwx------ 4 root root 4.0K Nov  1 05:53 'Tile 2'\n",
            "drwx------ 4 root root 4.0K Nov  1 05:53 'Tile 3'\n",
            "drwx------ 4 root root 4.0K Nov  1 05:53 'Tile 4'\n",
            "drwx------ 4 root root 4.0K Nov  1 05:53 'Tile 5'\n",
            "drwx------ 4 root root 4.0K Nov  1 05:53 'Tile 6'\n",
            "drwx------ 4 root root 4.0K Nov  1 05:53 'Tile 7'\n",
            "drwx------ 4 root root 4.0K Nov  1 05:53 'Tile 8'\n"
          ]
        }
      ]
    },
    {
      "cell_type": "code",
      "source": [
        "dataset_root_folder= '/content/drive/MyDrive/My_Project/archive/'"
      ],
      "metadata": {
        "id": "ou4uasHCdsSb"
      },
      "execution_count": 39,
      "outputs": []
    },
    {
      "cell_type": "code",
      "source": [
        "dataset_name= \"DubaiDataset\""
      ],
      "metadata": {
        "id": "RGQunFCVeAcT"
      },
      "execution_count": 40,
      "outputs": []
    },
    {
      "cell_type": "code",
      "source": [
        "for path, subdirs, files in os.walk (dataset_root_folder):\n",
        "  dir_name= path.split(os.path.sep)[-1]\n",
        "  #print(dir_name)\n",
        "  if dir_name=='images': #images\n",
        "    images=os.listdir(path)\n",
        "    print(path)\n",
        "    for i, image_name in enumerate(images):\n",
        "      if (image_name.endswith('.png')):# \".jpg\"\n",
        "        print(image_name)\n",
        "        a= True"
      ],
      "metadata": {
        "colab": {
          "base_uri": "https://localhost:8080/"
        },
        "id": "J9huO9dleLfB",
        "outputId": "e4900533-3079-4576-91ad-92a4efc093af"
      },
      "execution_count": 41,
      "outputs": [
        {
          "output_type": "stream",
          "name": "stdout",
          "text": [
            "/content/drive/MyDrive/My_Project/archive/Semantic segmentation dataset/Tile 2/images\n",
            "/content/drive/MyDrive/My_Project/archive/Semantic segmentation dataset/Tile 3/images\n",
            "/content/drive/MyDrive/My_Project/archive/Semantic segmentation dataset/Tile 6/images\n",
            "/content/drive/MyDrive/My_Project/archive/Semantic segmentation dataset/Tile 1/images\n",
            "/content/drive/MyDrive/My_Project/archive/Semantic segmentation dataset/Tile 4/images\n",
            "/content/drive/MyDrive/My_Project/archive/Semantic segmentation dataset/Tile 8/images\n",
            "/content/drive/MyDrive/My_Project/archive/Semantic segmentation dataset/Tile 5/images\n",
            "/content/drive/MyDrive/My_Project/archive/Semantic segmentation dataset/Tile 7/images\n"
          ]
        }
      ]
    },
    {
      "cell_type": "code",
      "source": [
        "print(os.path.exists('image_part_001.jpg'))"
      ],
      "metadata": {
        "colab": {
          "base_uri": "https://localhost:8080/"
        },
        "id": "1rldB-k0sbuA",
        "outputId": "2a769c7a-334e-4f99-98f4-9cf7b3eee9e6"
      },
      "execution_count": 58,
      "outputs": [
        {
          "output_type": "stream",
          "name": "stdout",
          "text": [
            "False\n"
          ]
        }
      ]
    },
    {
      "cell_type": "code",
      "source": [],
      "metadata": {
        "id": "Qh48rlqjzoOt"
      },
      "execution_count": null,
      "outputs": []
    },
    {
      "cell_type": "code",
      "source": [],
      "metadata": {
        "id": "1y_sHz8tzoR_"
      },
      "execution_count": null,
      "outputs": []
    },
    {
      "cell_type": "code",
      "source": [],
      "metadata": {
        "id": "BWeXKmS4zoVY"
      },
      "execution_count": null,
      "outputs": []
    },
    {
      "cell_type": "code",
      "source": [
        "print(os.getcwd())"
      ],
      "metadata": {
        "colab": {
          "base_uri": "https://localhost:8080/"
        },
        "id": "a0ptHimzs67X",
        "outputId": "a8cbc493-ad59-4f2d-aa76-149bcfb9a7bb"
      },
      "execution_count": 57,
      "outputs": [
        {
          "output_type": "stream",
          "name": "stdout",
          "text": [
            "/content\n"
          ]
        }
      ]
    },
    {
      "cell_type": "code",
      "source": [
        "image=cv2.imread(f'{dataset_root_folder}/{dataset_name}/Tile 3/images/image_part_001.jpg',1)"
      ],
      "metadata": {
        "id": "PF6GiVxhfMu3"
      },
      "execution_count": 59,
      "outputs": []
    },
    {
      "cell_type": "code",
      "source": [
        "print(type(image))"
      ],
      "metadata": {
        "colab": {
          "base_uri": "https://localhost:8080/"
        },
        "id": "9OYpWvpJppOC",
        "outputId": "aa2e9c19-4cd1-4d54-8cc9-63d40524bdb0"
      },
      "execution_count": 60,
      "outputs": [
        {
          "output_type": "stream",
          "name": "stdout",
          "text": [
            "<class 'NoneType'>\n"
          ]
        }
      ]
    },
    {
      "cell_type": "code",
      "source": [
        "print(image.size)"
      ],
      "metadata": {
        "colab": {
          "base_uri": "https://localhost:8080/",
          "height": 176
        },
        "id": "qxFygol7mg-9",
        "outputId": "8db2b8b5-1bc2-49d9-c16f-7d052573cab1"
      },
      "execution_count": 53,
      "outputs": [
        {
          "output_type": "error",
          "ename": "AttributeError",
          "evalue": "ignored",
          "traceback": [
            "\u001b[0;31m---------------------------------------------------------------------------\u001b[0m",
            "\u001b[0;31mAttributeError\u001b[0m                            Traceback (most recent call last)",
            "\u001b[0;32m<ipython-input-53-51d9880819a4>\u001b[0m in \u001b[0;36m<cell line: 1>\u001b[0;34m()\u001b[0m\n\u001b[0;32m----> 1\u001b[0;31m \u001b[0mprint\u001b[0m\u001b[0;34m(\u001b[0m\u001b[0mimage\u001b[0m\u001b[0;34m.\u001b[0m\u001b[0msize\u001b[0m\u001b[0;34m)\u001b[0m\u001b[0;34m\u001b[0m\u001b[0;34m\u001b[0m\u001b[0m\n\u001b[0m",
            "\u001b[0;31mAttributeError\u001b[0m: 'NoneType' object has no attribute 'size'"
          ]
        }
      ]
    },
    {
      "cell_type": "code",
      "source": [
        "image_dataset=[]\n",
        "for tile_id in range(1, 8):\n",
        "  for image_id in range(1, 20):\n",
        "    image="
      ],
      "metadata": {
        "colab": {
          "base_uri": "https://localhost:8080/",
          "height": 141
        },
        "id": "SbOdJKt5mny6",
        "outputId": "755a5d1d-e444-4392-f7fa-591f4d0207a9"
      },
      "execution_count": 35,
      "outputs": [
        {
          "output_type": "error",
          "ename": "SyntaxError",
          "evalue": "ignored",
          "traceback": [
            "\u001b[0;36m  File \u001b[0;32m\"<ipython-input-35-b6c9cf68e58b>\"\u001b[0;36m, line \u001b[0;32m4\u001b[0m\n\u001b[0;31m    image=\u001b[0m\n\u001b[0m          ^\u001b[0m\n\u001b[0;31mSyntaxError\u001b[0m\u001b[0;31m:\u001b[0m invalid syntax\n"
          ]
        }
      ]
    },
    {
      "cell_type": "code",
      "source": [],
      "metadata": {
        "id": "dXjawgx4ne-d"
      },
      "execution_count": null,
      "outputs": []
    }
  ]
}